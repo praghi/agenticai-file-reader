{
 "cells": [
  {
   "cell_type": "code",
   "execution_count": 2,
   "id": "83fa6942",
   "metadata": {},
   "outputs": [
    {
     "name": "stdout",
     "output_type": "stream",
     "text": [
      "6.0.2\n"
     ]
    }
   ],
   "source": [
    "import pinecone\n",
    "print(pinecone.__version__)"
   ]
  },
  {
   "cell_type": "code",
   "execution_count": 3,
   "id": "47f2a4b3",
   "metadata": {},
   "outputs": [],
   "source": [
    "file = r\"safootball.pdf\""
   ]
  },
  {
   "cell_type": "code",
   "execution_count": 4,
   "id": "218bbf87",
   "metadata": {},
   "outputs": [
    {
     "name": "stdout",
     "output_type": "stream",
     "text": [
      "Loading safootball.pdf\n"
     ]
    },
    {
     "data": {
      "text/plain": [
       "[Document(metadata={'producer': 'www.ilovepdf.com', 'creator': 'Microsoft® Word 2016', 'creationdate': '2024-07-15T10:29:11+00:00', 'author': 'George Georganas', 'moddate': '2024-07-15T10:29:11+00:00', 'source': 'safootball.pdf', 'total_pages': 12, 'page': 0, 'page_label': '1'}, page_content='1 \\n \\n \\n \\n \\n \\n \\n \\n \\n \\n \\n \\n \\n \\n \\n \\n \\nFootball South Australia  \\nYouth Competitions \\n \\n \\nYouth Club Championship \\n \\n \\nImplementation in 2025 Season'),\n",
       " Document(metadata={'producer': 'www.ilovepdf.com', 'creator': 'Microsoft® Word 2016', 'creationdate': '2024-07-15T10:29:11+00:00', 'author': 'George Georganas', 'moddate': '2024-07-15T10:29:11+00:00', 'source': 'safootball.pdf', 'total_pages': 12, 'page': 1, 'page_label': '2'}, page_content='2 \\n \\n \\nFOOTBALL SA YOUTH AND GIRLS COMPETITIONS -  \\nCLUB CHAMPIONSHIP (2025) \\n \\n \\n1. Background  \\n \\n1.1 The current Junior Competition Structure has remained relatively unchanged for many years with only minor tweaks such as \\n 9v9 for Under 12 boys and Under 13 girls, and grading of Under 12 boys competitions. \\n1.2 Football SA conducted a thorough review in 2018/19 which determined to leave the Junior Boys competitions unchanged. \\n1.3 Michael Cooper was appointed as the Football SA Technical Director in 2022 and conducted a thorough ‘state-of-play’ \\n analysis on the junior competitions. \\n1.4 It was suggested the junior competitions be revised taking into consideration learnings from junior competitions administered \\n by other Member Federations to provide a better playing environment for youth players. \\n1.5 A Club Championship model was proposed to Club Presidents at the President’s meeting in November 2023 which was \\n unanimously supported. \\n1.6 The following Youth Club Championship model has been constructed following consultation with individual Clubs, Football \\n SA Technical Department, Advisory Committees. \\n1.7 The Youth Club Championship structure will be comprised of current Junior Premier League (JPL) and Junior Girls teams \\nonly. The boys Junior State League (JSL) will remain unchanged. Further information available at point 9. \\n1.8 The age divisions which participate in the Youth Club Championship Structure are the Under 13, 14, 15 and 16’s for boys \\nand girls. All other age divisions will remain, including the Under 17 competition, but will not form part of the Club \\nChampionship structure. \\n1.9 Football SA will develop and provide the full Operating Regulations for this competition prior to the nomination period \\nopening.'),\n",
       " Document(metadata={'producer': 'www.ilovepdf.com', 'creator': 'Microsoft® Word 2016', 'creationdate': '2024-07-15T10:29:11+00:00', 'author': 'George Georganas', 'moddate': '2024-07-15T10:29:11+00:00', 'source': 'safootball.pdf', 'total_pages': 12, 'page': 2, 'page_label': '3'}, page_content='3 \\n \\n \\n2. Guiding Principals \\n \\n2.1 Create a competition with ‘best v best’ and ‘like v like’. \\no Like minded players, coaches and clubs focusing on providing optimal development experiences for youth players. \\n2.2. Create a more sustainable financial model for Clubs. \\no Club game days with back-to-back youth fixtures against the same Club, with all competition points contributing to an \\naccumulative table. \\n2.3 Aligned player and coach development through Football SA support centre. \\no Football SA to provide access to bio-testing, strength and conditioning testing and development of player tracking \\nsystems. \\n2.4 Aligned pathways between Football SA development centres and competitions. \\no Regional and metropolitan development centres, Football SA carnivals scheduled into youth competition fixtures; \\no Return of zoned representative matches. \\n2.5 Football SA centralised talent identification \\no Connected approach to identifying and supporting more players equally. \\no Widening the pool and improving support for these players who are late developers. \\n2.6 Develop and build a positive Club Culture \\no Clubs able to monitor behaviour of coaches/players/spectators with all teams playing at the same venue. Clubs \\nTechnical Director able to oversee all teams on a consistent basis.'),\n",
       " Document(metadata={'producer': 'www.ilovepdf.com', 'creator': 'Microsoft® Word 2016', 'creationdate': '2024-07-15T10:29:11+00:00', 'author': 'George Georganas', 'moddate': '2024-07-15T10:29:11+00:00', 'source': 'safootball.pdf', 'total_pages': 12, 'page': 3, 'page_label': '4'}, page_content='4 \\n \\n3. Club Championship Structure \\n \\n3.1 Club v Club in Under 13, 14, 15, 16 youth and Under 13, 14, 15, 16 youth girls. \\n3.2 Each Club plays on the same day, at the same location, i.e. \\n West Adelaide v Campbelltown City \\n Location: Park 27B \\n U13 – 8:30am \\n U14 – 10:00am \\n U15 – 11:30am \\n U16 – 1:30pm \\n3.3 Due to the number of teams which is expected to participate, the Youth Club Championship will be split into tiers. Clubs \\n will be able to move through tiers with promotion and relegation. \\n3.4 Youth Girls Club Championship will be in one tier and can expand as Club teams increase in future years. \\n3.5 Under 13 boys will become a 9v9 competition as recommended by the FA Technical Department and already adopted by a \\n number of Member Federations ensuring South Australia is keeping up with national best practice standards. \\n3.6 The Clubs participating in the highest tier of the Youth Club Championship will be required to field all teams. \\n3.7 Lower tiers of the Youth Club Championship may be given an exemption for one (1) less team for (1) season only. \\n3.8 Clubs participating in the Youth Girls Club Championship may be given an exemption for one (1) less team for (1) season \\n only. \\n3.9 Club Championship points will be accumulated across all ages which participate in the competition.'),\n",
       " Document(metadata={'producer': 'www.ilovepdf.com', 'creator': 'Microsoft® Word 2016', 'creationdate': '2024-07-15T10:29:11+00:00', 'author': 'George Georganas', 'moddate': '2024-07-15T10:29:11+00:00', 'source': 'safootball.pdf', 'total_pages': 12, 'page': 4, 'page_label': '5'}, page_content='5 \\n \\n3.10 Separate League tables will also be utilised for each age league, however this will not be used for any promotion/relegation \\n purpose. \\n3.11 Additional points will be granted to Clubs for achieving pre-determined items. For example, additional points will be provided \\n to Clubs if all appointed coaches in the Club Championship teams have their appropriate coaching licence; if they attend \\n coaching workshops etc.  \\n3.12 Club Championship points deductions will occur for disciplinary matters. For example, accumulative Red Cards, Serious \\n Infringements, Coach behaviour, Spectator behaviour. \\n3.13 Club Championship Finals series at the end of Home and Away Season for separate age divisions. The relevant league \\n table for each age division will determine the makeup of the Finals Series. \\n3.14  More information on bonuses/deductions is available at point 6.  \\n3.15 Senior grades will have no bearing on placement of Youth teams. \\n \\n4. Restructure Benefits \\n \\n4.1 Improved Club culture as teams will remain to support other age leagues as it all contributes to an accumulative table which \\n creates a sports day atmosphere. \\n4.2 Club Technical Director can be at one venue each weekend and watch the performance of their players/coaches without \\n being stretched across multiple venues at different times. \\n4.3 Allows the Club Technical Director to monitor coaches and provide consistent feedback to ensure they are following \\n Club philosophy and culture. \\n4.4 Allows the Club Technical Director to monitor and provide more regular progress updates to players as they develop through \\n the Season. \\n4.5 Match Official coach/mentor able to be at one venue and watch multiple match officials throughout the day.'),\n",
       " Document(metadata={'producer': 'www.ilovepdf.com', 'creator': 'Microsoft® Word 2016', 'creationdate': '2024-07-15T10:29:11+00:00', 'author': 'George Georganas', 'moddate': '2024-07-15T10:29:11+00:00', 'source': 'safootball.pdf', 'total_pages': 12, 'page': 5, 'page_label': '6'}, page_content='6 \\n \\n4.6 Greater feedback and support to Match Officials furthering their development. \\n4.7 Increased Match Official coverage, including Assistant Referees where possible, as they can rotate across different matches \\n on the same day. \\n4.8 The Club Championship will not be solely focused on results and will have points bonuses/deductions on Clubs meeting \\n certain criteria. \\n \\n5. Criteria for participation \\n \\n5.1 Clubs must field all age divisions of the Youth Club Championship to participate in the highest tier for boys. \\n5.2 Clubs may be given a one (1) season dispensation for failure to fill one (1) team in lower tiers or in the girls competition. \\n5.3 Dispensation will only be provided for one (1) season. If a Club cannot field all age divisions for a second consecutive \\n season, they will not be granted entry to participate in the Youth Club Championship Structure. \\n5.4 To be eligible to participate in the Youth Club Championship, the Youth Club’s Senior Men’s Team MUST be competing in \\n either the RAA National Premier League or State Leagues. \\n5.5 To be eligible to participate in the Youth Girls Club Championship, the Youth Girls Club’s Senior Women’s Team MUST be \\n competing in either the Go Sunny Solar Women’s National Premier League or State League. \\n5.6 Players will only be allowed to play for one Youth Club Championship Club or Youth Girls Club Championship Club in any \\ngiven Season. If a Player moves Club, they will not be able to play for another Club in the Youth Club Championship in the \\nsame season but may play Junior State League if in the boys or girls unless exceptional circumstances have been requested \\nand approved by Football SA.'),\n",
       " Document(metadata={'producer': 'www.ilovepdf.com', 'creator': 'Microsoft® Word 2016', 'creationdate': '2024-07-15T10:29:11+00:00', 'author': 'George Georganas', 'moddate': '2024-07-15T10:29:11+00:00', 'source': 'safootball.pdf', 'total_pages': 12, 'page': 6, 'page_label': '7'}, page_content='7 \\n \\n6. Youth Club Championship Points Structure \\n \\n6.1 The Youth Club Championship table will be an accumulation of points of junior teams within the competition (boys and girls \\n competitions are separate). \\n6.2 Clubs will receive three (3) points for a win, one (1) point for a draw and zero (0) points for a loss. As an example, if a Club \\n wins all four (4) age divisions on a weekend, it will result in twelve (12) competition points. The standard rules will apply in \\n regard to table positions, i.e. goal difference etc. \\n6.3 To ensure the Youth Club Championship is not solely reliant on results and is fostering an improved player development \\n environment and improved match day culture, points bonuses and deductions will be incorporated in the championship table \\n with examples provided below. Please note, the below bonus and deduction points are examples only. Final points \\n bonus/deductions will be provided in the Operating Regulations. \\n6.4 Clubs will receive bonus points if all head coaches meet the minimum licence criteria (C Diploma). +12 Club Championship \\n Points. \\n6.5 Clubs will receive bonus points if the technical director meets the minimum licence criteria (B Diploma). +12 Club \\n Championship Points. \\n6.6 Clubs will receive bonus points if the appointed coaches are attending Football SA Coaching workshops, education \\n sessions, seminars throughout the Season (1 x pre-season, 1 x mid-season, 1x post-season). +12 Club Championship \\n Points. \\n6.7 Clubs will receive bonus points if they are utilising a player development tracking system, i.e. Lumin. +6 Club \\n Championship Points. \\n6.8 Clubs will receive bonus points for using a camera system, i.e. veo. +6 Club Championship Points.'),\n",
       " Document(metadata={'producer': 'www.ilovepdf.com', 'creator': 'Microsoft® Word 2016', 'creationdate': '2024-07-15T10:29:11+00:00', 'author': 'George Georganas', 'moddate': '2024-07-15T10:29:11+00:00', 'source': 'safootball.pdf', 'total_pages': 12, 'page': 7, 'page_label': '8'}, page_content='8 \\n \\n6.9 Clubs will receive bonus points for using a player coaching system, i.e. hudl. +6 Club Championship Points. \\n6.10 Clubs will receive points deductions for disciplinary matters such as accumulation of Red Cards (tracked across the Club, \\n not individual team) As an example, points will be deducted when a Club receives an accumulation of 10 red cards. -3 \\n points \\n6.11 Clubs will receive points deductions for serious red card offences, i.e. violent conduct, match official abuse. -3 points \\n6.12 Clubs will receive points deductions for breaches of Codes of Conduct, including Players, Coach and Spectators.  \\n -3 points \\n6.13 The above points bonuses and deductions encourages Clubs, whilst not mandating, to incorporate good practices which will \\n enhance player development. Disciplinary points deductions will discourage players, coaches and spectators from engaging \\n in behaviours providing better playing environments for all involved. \\n \\n7. Process for application \\n \\n7.1 At the end of the current Season, Clubs will be invited to nominate their Clubs to participate in the Youth Club \\n Championship or Youth Girls Club Championship competitions. \\n7.2 Clubs will be required to submit a squad list for each team by the date stipulated by Football SA. This is to ensure the Club is \\n able to demonstrate its ability to field teams prior to competition Leagues being set and fixtures drafted. \\n7.3 Teams are required to have a minimum of 16 players and a maximum of 18 players for Under 14, 15 and 16’s. \\n7.4 Teams are required to have a minimum of 12 players and a maximum of 14 for Under 13’s (9v9). \\n7.5 Squad lists will be able to be amended until closer to the commencement of the Season. \\n7.6 Football SA will then review all applications and declare the Leagues prior to the end of the calendar year.'),\n",
       " Document(metadata={'producer': 'www.ilovepdf.com', 'creator': 'Microsoft® Word 2016', 'creationdate': '2024-07-15T10:29:11+00:00', 'author': 'George Georganas', 'moddate': '2024-07-15T10:29:11+00:00', 'source': 'safootball.pdf', 'total_pages': 12, 'page': 8, 'page_label': '9'}, page_content='9 \\n \\n7.7 Clubs will be able to nominate to participate in the Youth Club Championship each year. \\n7.8 Additional Clubs will be able to nominate to participate at the end of each Season during the nomination period if they can \\n demonstrate an ability to field the required teams. \\n7.9 Any additional Clubs following the first year of implementation will be required to enter at the lowest Tier available. \\n \\n8. Establishment of Leagues \\n \\n8.1 The Youth Girls Club Championship will consist of one (1) Tier. This determination is made on the number of Clubs which \\n meet current eligibility from the 2024 Season but can increase to multiple Tiers as team numbers grow. \\n8.2 The Youth Club Championship will consist of multiple Tiers between eight (8) to twelve (12) Clubs in each Tier, where \\n possible, dependent on number of Clubs participating. \\n8.3 The Junior Boys Clubs participating in JPL A will be placed in the highest Youth Club Championship Tier based on end of the \\n 2024 season final placings (Annexure 1). Once the top Tier is filled, Clubs will then be placed in lower Tiers until all Clubs \\n have been placed. Placing of teams will be conducted in the below order from the end of 2024 Season results: \\n\\uf0a7 4 x JPL A \\n\\uf0a7 3 x JPL A, 1 x JPL B \\n\\uf0a7 2 x JPL A, 2 x JPL B \\n\\uf0a7 1 x JPL A, 3 x JPL B \\n\\uf0a7 4 x JPL B \\n\\uf0a7 3 x JPL B, 1 x JPL C \\n\\uf0a7 etc. \\n8.4 The League will play a full Home and Away Season. \\n8.5 A Finals Series will be conducted at the end of the Home and Away Season.'),\n",
       " Document(metadata={'producer': 'www.ilovepdf.com', 'creator': 'Microsoft® Word 2016', 'creationdate': '2024-07-15T10:29:11+00:00', 'author': 'George Georganas', 'moddate': '2024-07-15T10:29:11+00:00', 'source': 'safootball.pdf', 'total_pages': 12, 'page': 9, 'page_label': '10'}, page_content='10 \\n \\n8.6 Promotion and Relegation will occur between the Tiers of the Youth Club Championship and will occur on the result of the \\n end of season final Club Championship Table position. The Finals series will have no bearing on promotion/relegation. \\n \\n9. Other Junior Competitions \\n \\n9.1 The Junior State League (JSL) and Girls Junior divisions will remain in place. \\n9.2 The Junior Girls division names will change from colour names to A, B, C etc. \\n9.3 The Junior State League (JSL) will change to Youth State League (YSL) and the Junior Girls will change to Youth Girls State \\n League. \\n9.3 Clubs will continue to be able to nominate multiple teams in each age group each season in the Youth State League and \\n Youth Girls State League competition. \\n9.4 Men’s Clubs which do not have a Senior side participating in either the RAA National Premier League, State League 1 or \\n State League 2 will only be able to nominate teams to participate in the Youth State League Competition. \\n9.4 Women’s Clubs which do not have a Senior side participating in either the Go Sunny Solar National Premier League or State \\n League will only be able to nominate teams to participate in the Youth Girls State League. \\n \\n10. Competition Review \\n \\n10.1 In the first year of implementation, Football SA will monitor results throughout the Season and if required, split leagues at \\n half-way to provide more ‘like-for-like’ matches. \\n10.2 Football SA will conduct a full review of the roll out of the Youth Club Championship structure at the conclusion of the Season \\n and make any necessary changes it sees fit to improve the competition for following Seasons.'),\n",
       " Document(metadata={'producer': 'www.ilovepdf.com', 'creator': 'Microsoft® Word 2016', 'creationdate': '2024-07-15T10:29:11+00:00', 'author': 'George Georganas', 'moddate': '2024-07-15T10:29:11+00:00', 'source': 'safootball.pdf', 'total_pages': 12, 'page': 10, 'page_label': '11'}, page_content='11 \\n \\nAnnexure 1'),\n",
       " Document(metadata={'producer': 'www.ilovepdf.com', 'creator': 'Microsoft® Word 2016', 'creationdate': '2024-07-15T10:29:11+00:00', 'author': 'George Georganas', 'moddate': '2024-07-15T10:29:11+00:00', 'source': 'safootball.pdf', 'total_pages': 12, 'page': 11, 'page_label': '12'}, page_content='12 \\n \\nAnnexure 2')]"
      ]
     },
     "execution_count": 4,
     "metadata": {},
     "output_type": "execute_result"
    }
   ],
   "source": [
    "import os\n",
    "name, extension = os.path.splitext(file)\n",
    "\n",
    "if extension == '.pdf':\n",
    "        from langchain_community.document_loaders import PyPDFLoader\n",
    "        print(f'Loading {file}')\n",
    "        loader = PyPDFLoader(file)\n",
    "elif extension == '.docx':\n",
    "        from langchain_community.document_loaders import Docx2txtLoader\n",
    "        print(f'Loading {file}')\n",
    "        loader = Docx2txtLoader(file)\n",
    "elif extension == '.txt':\n",
    "        from langchain_community.document_loaders import TextLoader\n",
    "        loader = TextLoader(file)\n",
    "    # elif extension == '.csv':\n",
    "    #     import pandas as pd\n",
    "    #     from langchain_community.document_loaders.csv_loader import CSVLoader\n",
    "    #     loader = CSVLoader(file_path=file)\n",
    "    #     data = loader.load()\n",
    "else:\n",
    "    print('Document format is not supported!')\n",
    "\n",
    "\n",
    "data = loader.load()\n",
    "data"
   ]
  }
 ],
 "metadata": {
  "kernelspec": {
   "display_name": "Python 3",
   "language": "python",
   "name": "python3"
  },
  "language_info": {
   "codemirror_mode": {
    "name": "ipython",
    "version": 3
   },
   "file_extension": ".py",
   "mimetype": "text/x-python",
   "name": "python",
   "nbconvert_exporter": "python",
   "pygments_lexer": "ipython3",
   "version": "3.11.9"
  }
 },
 "nbformat": 4,
 "nbformat_minor": 5
}
